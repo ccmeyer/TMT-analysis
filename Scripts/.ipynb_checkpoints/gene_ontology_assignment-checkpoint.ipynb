{
 "cells": [
  {
   "cell_type": "markdown",
   "metadata": {},
   "source": [
    "# Assigning functional categories by gene ontological assignment\n",
    "### To group proteins based on function at various levels of coarseness, the assigned gene ontological identifiers given to each protein in the proteome metadata was traced back through their parent terms to the desired categories. \n",
    "### The gene ontology library was acquired from http://geneontology.org/docs/download-ontology/ and was navigated using the python library pronto. The gene ontology library used is included in the Initial files directory. \n",
    "### The gene ontology terms belonging to each group are detailed in the GO_grouping_specific.csv and GO_grouping_general.csv files. Several proteins with known function were not assigned specific enough gene ontology identifiers and needed to be manually assigned. This manual assignment is detailed in manual_GO_assignment."
   ]
  },
  {
   "cell_type": "code",
   "execution_count": 1,
   "metadata": {},
   "outputs": [],
   "source": [
    "import numpy as np\n",
    "import pandas as pd\n",
    "\n",
    "import sys\n",
    "import os\n",
    "import math\n",
    "import re\n",
    "\n",
    "import pronto"
   ]
  },
  {
   "cell_type": "markdown",
   "metadata": {},
   "source": [
    "### Load the gene ontology database"
   ]
  },
  {
   "cell_type": "code",
   "execution_count": 2,
   "metadata": {},
   "outputs": [],
   "source": [
    "ont = pronto.Ontology('../Initial files/go-plus.owl')"
   ]
  },
  {
   "cell_type": "markdown",
   "metadata": {},
   "source": [
    "### Construct multiple dictionaries to group proteins by their gene ontology"
   ]
  },
  {
   "cell_type": "code",
   "execution_count": 3,
   "metadata": {},
   "outputs": [],
   "source": [
    "## Create a dictionary with all of the GO terms of interest as keys and the classification as values\n",
    "\n",
    "go_complex = pd.read_csv('../Initial files/GO_grouping_specific.csv')\n",
    "\n",
    "categories = go_complex.columns.tolist()\n",
    "sub_cate = [category+'-'+str(x) for category in categories for x in range(len(go_complex[category].dropna().tolist()))]\n",
    "ranks = dict(zip(sub_cate,range(len(sub_cate))))\n",
    "\n",
    "cate_dict = {}\n",
    "for category in categories:\n",
    "    terms = go_complex[category].dropna().tolist()\n",
    "    go_terms = [ont[term[0:10]] for term in terms]\n",
    "    array = zip(go_terms,[category+'-'+str(x) for x in range(len(go_terms))])\n",
    "    cate_dict.update(dict(array))\n",
    "\n",
    "## Read in the manual GO term assignments\n",
    "manual = pd.read_csv('../Initial files/manual_GO_assignment.csv')\n",
    "\n",
    "all_manual = {}\n",
    "for col in manual.columns.tolist():\n",
    "    prots = manual[col].dropna().tolist()\n",
    "    all_manual.update(dict(zip(prots,[col for x in range(len(prots))])))\n",
    "manual_prots = all_manual.keys()\n",
    "\n",
    "\n",
    "## General category grouping\n",
    "general = pd.read_csv('../Initial files/GO_grouping_general.csv')\n",
    "\n",
    "all_general = {}\n",
    "for gen in general.columns.tolist():\n",
    "    names = general[gen].dropna().tolist()\n",
    "    all_general.update(dict(zip(names,[gen for x in range(len(names))])))  \n"
   ]
  },
  {
   "cell_type": "markdown",
   "metadata": {},
   "source": [
    "### Assign each protein to their specific and general functional groups"
   ]
  },
  {
   "cell_type": "code",
   "execution_count": 4,
   "metadata": {},
   "outputs": [],
   "source": [
    "def split_list(row):\n",
    "    GOs = row['Gene_ontology_IDs']\n",
    "    try:\n",
    "        if math.isnan(float(GOs)):\n",
    "            return []\n",
    "    except:\n",
    "        return str(GOs).split('; ')\n",
    "\n",
    "def find_all_parents(row):\n",
    "    GOs = row['GO_list']\n",
    "#     print(row['fasta_header'],GOs)\n",
    "    if GOs == ['nan']:\n",
    "        return []\n",
    "    all_GOs = [ont[go].rparents() for go in GOs]\n",
    "    all_GOs.append([ont[go] for go in GOs])\n",
    "    return all_GOs\n",
    "\n",
    "def classify_parents(row):\n",
    "    parent_array = row['all_parents']\n",
    "    if parent_array == []:\n",
    "        return []\n",
    "    classified_parents = []\n",
    "    for parents in parent_array:\n",
    "        for parent in parents:\n",
    "            if parent in cate_dict.keys():\n",
    "                classified_parents.append([parent,cate_dict[parent]])\n",
    "    ordered = sorted(classified_parents, key = lambda x: ranks[x[1]])\n",
    "    return ordered\n",
    "\n",
    "def top_GO(row):\n",
    "     if row['classified_parents'] == []:\n",
    "        return 'Not_listed'\n",
    "     elif row['Protein_names'] in manual_prots:\n",
    "        return ont[all_manual[row['Protein_names']][0:10]]\n",
    "     return row['classified_parents'][0][0]\n",
    "\n",
    "def top_class(row):\n",
    "    if row['classified_parents'] == []:\n",
    "        return 'Not listed'\n",
    "    elif row['Protein_names'] in manual_prots:\n",
    "        return cate_dict[row['top_GO']]\n",
    "    return row['classified_parents'][0][1]\n",
    "\n",
    "def convert_GO(row):\n",
    "    return str(row['top_GO'])[1:-1]\n",
    "\n",
    "def extract_category(row):\n",
    "    return row['top_class'].split('-')[0]\n",
    "\n",
    "def general_category(row):\n",
    "    return all_general[row['category']]\n",
    "\n",
    "proteins = pd.read_csv('../Intermediate data/labeled_IRS_proteins_exp.csv')\n",
    "\n",
    "proteins['GO_list'] = proteins.apply(split_list,axis=1)\n",
    "proteins['all_parents'] = proteins.apply(find_all_parents, axis=1)\n",
    "proteins['classified_parents'] = proteins.apply(classify_parents, axis=1)\n",
    "proteins['top_GO'] = proteins.apply(top_GO, axis=1)\n",
    "proteins['top_class'] = proteins.apply(top_class, axis=1)\n",
    "proteins['top_GO_str'] = proteins.apply(convert_GO, axis=1)\n",
    "proteins['category'] = proteins.apply(extract_category, axis=1)\n",
    "proteins['general_category'] = proteins.apply(general_category, axis=1)\n",
    "\n",
    "proteins = proteins.sort_values(by=['top_class','top_GO_str'])\n"
   ]
  },
  {
   "cell_type": "code",
   "execution_count": 5,
   "metadata": {},
   "outputs": [],
   "source": [
    "proteins.to_csv('../Intermediate data/labeled_IRS_proteins_GO.csv')"
   ]
  }
 ],
 "metadata": {
  "kernelspec": {
   "display_name": "Python 3",
   "language": "python",
   "name": "python3"
  },
  "language_info": {
   "codemirror_mode": {
    "name": "ipython",
    "version": 3
   },
   "file_extension": ".py",
   "mimetype": "text/x-python",
   "name": "python",
   "nbconvert_exporter": "python",
   "pygments_lexer": "ipython3",
   "version": "3.7.3"
  }
 },
 "nbformat": 4,
 "nbformat_minor": 2
}
